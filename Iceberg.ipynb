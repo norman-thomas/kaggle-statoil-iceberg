{
 "cells": [
  {
   "cell_type": "code",
   "execution_count": 197,
   "metadata": {},
   "outputs": [],
   "source": [
    "import json\n",
    "import pandas as pd\n",
    "import numpy as np\n",
    "\n",
    "from sklearn.model_selection import train_test_split\n",
    "from sklearn.utils import shuffle\n",
    "\n",
    "import tensorflow as tf\n",
    "\n",
    "from tensorflow.contrib.keras.python.keras.models import Sequential, load_model\n",
    "from tensorflow.contrib.keras.python.keras.layers import Input, InputLayer, Dense, Conv2D, Dropout, BatchNormalization, GaussianNoise, Flatten, MaxPooling2D, GlobalMaxPooling2D\n",
    "from tensorflow.contrib.keras.python.keras.optimizers import Adam\n",
    "from tensorflow.contrib.keras.python.keras.regularizers import l1, l2\n",
    "from tensorflow.contrib.keras.python.keras.initializers import glorot_normal\n",
    "from tensorflow.contrib.keras.python.keras.callbacks import TensorBoard, ModelCheckpoint, EarlyStopping, ReduceLROnPlateau\n",
    "from tensorflow.contrib.keras.python.keras.preprocessing.image import ImageDataGenerator\n",
    "\n",
    "import matplotlib.pyplot as plt\n",
    "%matplotlib inline"
   ]
  },
  {
   "cell_type": "code",
   "execution_count": 122,
   "metadata": {},
   "outputs": [
    {
     "data": {
      "text/plain": [
       "'1.3.1'"
      ]
     },
     "execution_count": 122,
     "metadata": {},
     "output_type": "execute_result"
    }
   ],
   "source": [
    "tf.__version__"
   ]
  },
  {
   "cell_type": "code",
   "execution_count": 2,
   "metadata": {},
   "outputs": [],
   "source": [
    "TRAIN_FILE = 'data/train.json'\n",
    "TEST_FILE = 'data/test.json'"
   ]
  },
  {
   "cell_type": "code",
   "execution_count": 3,
   "metadata": {},
   "outputs": [],
   "source": [
    "def load_data(filename):\n",
    "    df = pd.read_json(filename)\n",
    "    images = df.apply(lambda c_row: [np.stack([c_row['band_1'], c_row['band_2']], -1).reshape((75,75,2))], 1)\n",
    "    images = np.stack(images).squeeze()\n",
    "    ids = df.id.tolist()\n",
    "    return ids, images, df.is_iceberg.as_matrix() if 'is_iceberg' in df else None"
   ]
  },
  {
   "cell_type": "code",
   "execution_count": 176,
   "metadata": {},
   "outputs": [
    {
     "name": "stdout",
     "output_type": "stream",
     "text": [
      "CPU times: user 16 s, sys: 9.99 s, total: 25.9 s\n",
      "Wall time: 29.2 s\n"
     ]
    }
   ],
   "source": [
    "%%time\n",
    "_, X_train_all, y_train_all = load_data(TRAIN_FILE)\n",
    "ids_test, X_test, y_test = load_data(TEST_FILE)"
   ]
  },
  {
   "cell_type": "code",
   "execution_count": 177,
   "metadata": {},
   "outputs": [
    {
     "data": {
      "text/plain": [
       "((1604, 75, 75, 2), (1604,), (8424, 75, 75, 2))"
      ]
     },
     "execution_count": 177,
     "metadata": {},
     "output_type": "execute_result"
    }
   ],
   "source": [
    "X_train_all.shape, y_train_all.shape, X_test.shape"
   ]
  },
  {
   "cell_type": "code",
   "execution_count": 180,
   "metadata": {},
   "outputs": [],
   "source": [
    "X_train, X_valid, y_train, y_valid = train_test_split(X_train_all, y_train_all, random_state=2**8, test_size=0.1)"
   ]
  },
  {
   "cell_type": "code",
   "execution_count": 181,
   "metadata": {},
   "outputs": [],
   "source": [
    "mean = X_train.mean()\n",
    "devi = X_train.std()\n",
    "\n",
    "def normalize(X):\n",
    "    return (X - mean) / devi\n",
    "\n",
    "X_train_scaled = normalize(X_train)\n",
    "X_valid_scaled = normalize(X_valid)\n",
    "X_test_scaled = normalize(X_test)"
   ]
  },
  {
   "cell_type": "code",
   "execution_count": 190,
   "metadata": {},
   "outputs": [
    {
     "name": "stdout",
     "output_type": "stream",
     "text": [
      "_________________________________________________________________\n",
      "Layer (type)                 Output Shape              Param #   \n",
      "=================================================================\n",
      "input_2 (InputLayer)         (None, 75, 75, 2)         0         \n",
      "_________________________________________________________________\n",
      "conv2d_118 (Conv2D)          (None, 33, 33, 32)        7776      \n",
      "_________________________________________________________________\n",
      "dropout_132 (Dropout)        (None, 33, 33, 32)        0         \n",
      "_________________________________________________________________\n",
      "conv2d_119 (Conv2D)          (None, 12, 12, 32)        123936    \n",
      "_________________________________________________________________\n",
      "dropout_133 (Dropout)        (None, 12, 12, 32)        0         \n",
      "_________________________________________________________________\n",
      "conv2d_120 (Conv2D)          (None, 6, 6, 64)          100416    \n",
      "_________________________________________________________________\n",
      "dropout_134 (Dropout)        (None, 6, 6, 64)          0         \n",
      "_________________________________________________________________\n",
      "conv2d_121 (Conv2D)          (None, 2, 2, 64)          102464    \n",
      "_________________________________________________________________\n",
      "flatten_24 (Flatten)         (None, 256)               0         \n",
      "_________________________________________________________________\n",
      "dropout_135 (Dropout)        (None, 256)               0         \n",
      "_________________________________________________________________\n",
      "dense_47 (Dense)             (None, 16)                4112      \n",
      "_________________________________________________________________\n",
      "dropout_136 (Dropout)        (None, 16)                0         \n",
      "_________________________________________________________________\n",
      "dense_48 (Dense)             (None, 1)                 17        \n",
      "=================================================================\n",
      "Total params: 338,721\n",
      "Trainable params: 338,721\n",
      "Non-trainable params: 0\n",
      "_________________________________________________________________\n",
      "None\n"
     ]
    }
   ],
   "source": [
    "INPUT_SHAPE = X_train.shape[1:]\n",
    "\n",
    "def other_model():\n",
    "    model = Sequential()\n",
    "\n",
    "    model.add(BatchNormalization(input_shape=INPUT_SHAPE))\n",
    "    for i in range(4):\n",
    "        model.add(Conv2D(8*2**i, kernel_size=(3,3), activation='elu'))\n",
    "        model.add(MaxPooling2D((2,2)))\n",
    "    model.add(GlobalMaxPooling2D())\n",
    "    model.add(Dropout(0.2))\n",
    "    model.add(Dense(64, activation='elu'))\n",
    "    model.add(Dropout(0.2))\n",
    "    model.add(Dense(32, activation='elu'))\n",
    "    model.add(Dense(1, kernel_initializer=glorot_normal(), activation='sigmoid'))\n",
    "    return model\n",
    "\n",
    "def my_model():\n",
    "    model = Sequential()\n",
    "\n",
    "    model.add(InputLayer(input_shape=INPUT_SHAPE))\n",
    "    #model.add(BatchNormalization(input_shape=INPUT_SHAPE))\n",
    "    #model.add(GaussianNoise(0.1))\n",
    "\n",
    "    model.add(Conv2D(32, kernel_size=(11, 11), strides=(2, 2), kernel_initializer=glorot_normal(), activation='elu'))\n",
    "    #model.add(BatchNormalization())\n",
    "    model.add(Dropout(0.2))\n",
    "\n",
    "    model.add(Conv2D(32, kernel_size=(11, 11), strides=(2, 2), kernel_initializer=glorot_normal(), activation='elu'))\n",
    "    #model.add(BatchNormalization())\n",
    "    model.add(Dropout(0.3))\n",
    "\n",
    "    model.add(Conv2D(64, kernel_size=(7, 7), kernel_initializer=glorot_normal(), activation='elu'))\n",
    "    #model.add(BatchNormalization())\n",
    "    model.add(Dropout(0.3))\n",
    "\n",
    "    model.add(Conv2D(64, kernel_size=(5, 5), kernel_initializer=glorot_normal(), activation='elu'))\n",
    "    #model.add(BatchNormalization())\n",
    "\n",
    "    model.add(Flatten())\n",
    "    model.add(Dropout(0.6))\n",
    "\n",
    "    model.add(Dense(16, kernel_initializer=glorot_normal(), activation='elu'))\n",
    "    #model.add(BatchNormalization())\n",
    "    model.add(Dropout(0.2))\n",
    "\n",
    "    model.add(Dense(1, kernel_initializer=glorot_normal(), activation='sigmoid'))\n",
    "    return model\n",
    "    \n",
    "\n",
    "model = my_model()\n",
    "\n",
    "model.compile(optimizer=Adam(lr=0.001), loss='binary_crossentropy')\n",
    "print(model.summary())"
   ]
  },
  {
   "cell_type": "code",
   "execution_count": 191,
   "metadata": {},
   "outputs": [],
   "source": [
    "#tensorboard = TensorBoard(log_dir='./logs', histogram_freq=1, batch_size=32, write_graph=True, write_grads=True)\n",
    "checkpoint = ModelCheckpoint('checkpoint_{epoch:03d}_{val_loss:.2f}.hdf5', monitor='val_loss', save_best_only=True)\n",
    "#earlystopping = EarlyStopping(patience=10, monitor='loss')\n",
    "plateau = ReduceLROnPlateau(monitor='val_loss', factor=0.2, patience=15)"
   ]
  },
  {
   "cell_type": "code",
   "execution_count": 194,
   "metadata": {
    "scrolled": false
   },
   "outputs": [
    {
     "name": "stdout",
     "output_type": "stream",
     "text": [
      "Train on 1443 samples, validate on 161 samples\n",
      "Epoch 1/64\n",
      "1443/1443 [==============================] - 0s - loss: 0.1874 - val_loss: 0.2888\n",
      "Epoch 2/64\n",
      "1443/1443 [==============================] - 0s - loss: 0.2442 - val_loss: 0.2656\n",
      "Epoch 3/64\n",
      "1443/1443 [==============================] - 0s - loss: 0.1847 - val_loss: 0.2423\n",
      "Epoch 4/64\n",
      "1443/1443 [==============================] - 0s - loss: 0.1849 - val_loss: 0.2937\n",
      "Epoch 5/64\n",
      "1443/1443 [==============================] - 0s - loss: 0.1673 - val_loss: 0.2741\n",
      "Epoch 6/64\n",
      "1443/1443 [==============================] - 0s - loss: 0.1418 - val_loss: 0.3107\n",
      "Epoch 7/64\n",
      "1443/1443 [==============================] - 0s - loss: 0.1561 - val_loss: 0.3738\n",
      "Epoch 8/64\n",
      "1443/1443 [==============================] - 0s - loss: 0.1531 - val_loss: 0.3565\n",
      "Epoch 9/64\n",
      "1443/1443 [==============================] - 0s - loss: 0.1358 - val_loss: 0.3262\n",
      "Epoch 10/64\n",
      "1443/1443 [==============================] - 0s - loss: 0.1002 - val_loss: 0.2970\n",
      "Epoch 11/64\n",
      "1443/1443 [==============================] - 0s - loss: 0.1239 - val_loss: 0.3571\n",
      "Epoch 12/64\n",
      "1443/1443 [==============================] - 0s - loss: 0.0901 - val_loss: 0.3254\n",
      "Epoch 13/64\n",
      "1443/1443 [==============================] - 0s - loss: 0.1663 - val_loss: 0.6097\n",
      "Epoch 14/64\n",
      "1443/1443 [==============================] - 0s - loss: 0.1453 - val_loss: 0.2787\n",
      "Epoch 15/64\n",
      "1443/1443 [==============================] - 0s - loss: 0.0912 - val_loss: 0.3131\n",
      "Epoch 16/64\n",
      "1443/1443 [==============================] - 0s - loss: 0.0899 - val_loss: 0.4601\n",
      "Epoch 17/64\n",
      "1443/1443 [==============================] - 0s - loss: 0.1340 - val_loss: 0.3272\n",
      "Epoch 18/64\n",
      "1443/1443 [==============================] - 0s - loss: 0.0945 - val_loss: 0.4028\n",
      "Epoch 19/64\n",
      "1443/1443 [==============================] - 4s - loss: 0.0571 - val_loss: 0.3225\n",
      "Epoch 20/64\n",
      "1443/1443 [==============================] - 0s - loss: 0.0380 - val_loss: 0.3863\n",
      "Epoch 21/64\n",
      "1443/1443 [==============================] - 0s - loss: 0.0308 - val_loss: 0.4039\n",
      "Epoch 22/64\n",
      "1443/1443 [==============================] - 0s - loss: 0.0291 - val_loss: 0.4177\n",
      "Epoch 23/64\n",
      "1443/1443 [==============================] - 0s - loss: 0.0226 - val_loss: 0.4353\n",
      "Epoch 24/64\n",
      "1443/1443 [==============================] - 0s - loss: 0.0258 - val_loss: 0.4306\n",
      "Epoch 25/64\n",
      "1443/1443 [==============================] - 0s - loss: 0.0255 - val_loss: 0.4566\n",
      "Epoch 26/64\n",
      "1443/1443 [==============================] - 0s - loss: 0.0230 - val_loss: 0.4644\n",
      "Epoch 27/64\n",
      "1443/1443 [==============================] - 0s - loss: 0.0201 - val_loss: 0.4573\n",
      "Epoch 28/64\n",
      "1443/1443 [==============================] - 0s - loss: 0.0235 - val_loss: 0.4570\n",
      "Epoch 29/64\n",
      "1443/1443 [==============================] - 0s - loss: 0.0196 - val_loss: 0.4685\n",
      "Epoch 30/64\n",
      "1443/1443 [==============================] - 0s - loss: 0.0191 - val_loss: 0.5151\n",
      "Epoch 31/64\n",
      "1443/1443 [==============================] - 0s - loss: 0.0177 - val_loss: 0.4896\n",
      "Epoch 32/64\n",
      "1443/1443 [==============================] - 0s - loss: 0.0146 - val_loss: 0.5094\n",
      "Epoch 33/64\n",
      "1443/1443 [==============================] - 0s - loss: 0.0186 - val_loss: 0.4904\n",
      "Epoch 34/64\n",
      "1443/1443 [==============================] - 0s - loss: 0.0137 - val_loss: 0.5404\n",
      "Epoch 35/64\n",
      "1443/1443 [==============================] - 0s - loss: 0.0150 - val_loss: 0.5157\n",
      "Epoch 36/64\n",
      "1443/1443 [==============================] - 0s - loss: 0.0110 - val_loss: 0.5147\n",
      "Epoch 37/64\n",
      "1443/1443 [==============================] - 0s - loss: 0.0128 - val_loss: 0.5219\n",
      "Epoch 38/64\n",
      "1443/1443 [==============================] - 0s - loss: 0.0110 - val_loss: 0.5178\n",
      "Epoch 39/64\n",
      "1443/1443 [==============================] - 0s - loss: 0.0159 - val_loss: 0.5288\n",
      "Epoch 40/64\n",
      "1443/1443 [==============================] - 0s - loss: 0.0148 - val_loss: 0.5351\n",
      "Epoch 41/64\n",
      "1443/1443 [==============================] - 0s - loss: 0.0134 - val_loss: 0.5479\n",
      "Epoch 42/64\n",
      "1443/1443 [==============================] - 0s - loss: 0.0094 - val_loss: 0.5522\n",
      "Epoch 43/64\n",
      "1443/1443 [==============================] - 0s - loss: 0.0108 - val_loss: 0.5621\n",
      "Epoch 44/64\n",
      "1443/1443 [==============================] - 0s - loss: 0.0162 - val_loss: 0.5338\n",
      "Epoch 45/64\n",
      "1443/1443 [==============================] - 0s - loss: 0.0086 - val_loss: 0.5306\n",
      "Epoch 46/64\n",
      "1443/1443 [==============================] - 0s - loss: 0.0082 - val_loss: 0.5511\n",
      "Epoch 47/64\n",
      "1443/1443 [==============================] - 0s - loss: 0.0158 - val_loss: 0.5555\n",
      "Epoch 48/64\n",
      "1443/1443 [==============================] - 0s - loss: 0.0117 - val_loss: 0.5623\n",
      "Epoch 49/64\n",
      "1443/1443 [==============================] - 0s - loss: 0.0088 - val_loss: 0.5688\n",
      "Epoch 50/64\n",
      "1443/1443 [==============================] - 0s - loss: 0.0176 - val_loss: 0.5692\n",
      "Epoch 51/64\n",
      "1443/1443 [==============================] - 0s - loss: 0.0173 - val_loss: 0.5649\n",
      "Epoch 52/64\n",
      "1443/1443 [==============================] - 0s - loss: 0.0092 - val_loss: 0.5639\n",
      "Epoch 53/64\n",
      "1443/1443 [==============================] - 0s - loss: 0.0100 - val_loss: 0.5659\n",
      "Epoch 54/64\n",
      "1443/1443 [==============================] - 0s - loss: 0.0103 - val_loss: 0.5634\n",
      "Epoch 55/64\n",
      "1443/1443 [==============================] - 0s - loss: 0.0141 - val_loss: 0.5640\n",
      "Epoch 56/64\n",
      "1443/1443 [==============================] - 0s - loss: 0.0123 - val_loss: 0.5634\n",
      "Epoch 57/64\n",
      "1443/1443 [==============================] - 0s - loss: 0.0145 - val_loss: 0.5657\n",
      "Epoch 58/64\n",
      "1443/1443 [==============================] - 0s - loss: 0.0082 - val_loss: 0.5678\n",
      "Epoch 59/64\n",
      "1443/1443 [==============================] - 0s - loss: 0.0114 - val_loss: 0.5649\n",
      "Epoch 60/64\n",
      "1443/1443 [==============================] - 0s - loss: 0.0124 - val_loss: 0.5662\n",
      "Epoch 61/64\n",
      "1443/1443 [==============================] - 0s - loss: 0.0142 - val_loss: 0.5656\n",
      "Epoch 62/64\n",
      "1443/1443 [==============================] - 0s - loss: 0.0061 - val_loss: 0.5657\n",
      "Epoch 63/64\n",
      "1443/1443 [==============================] - 0s - loss: 0.0096 - val_loss: 0.5674\n",
      "Epoch 64/64\n",
      "1443/1443 [==============================] - 0s - loss: 0.0079 - val_loss: 0.5669\n",
      "CPU times: user 43.1 s, sys: 10.3 s, total: 53.4 s\n",
      "Wall time: 45.5 s\n"
     ]
    }
   ],
   "source": [
    "%%time\n",
    "history = model.fit(\n",
    "    *shuffle(X_train_scaled, y_train),\n",
    "    validation_data=shuffle(X_valid_scaled, y_valid),\n",
    "    #batch_size=64,\n",
    "    epochs=64,\n",
    "    callbacks=[\n",
    "        #tensorboard,\n",
    "        checkpoint,\n",
    "        plateau\n",
    "    ]\n",
    ")"
   ]
  },
  {
   "cell_type": "code",
   "execution_count": 195,
   "metadata": {},
   "outputs": [
    {
     "data": {
      "text/plain": [
       "[<matplotlib.lines.Line2D at 0x2ad7b0668>]"
      ]
     },
     "execution_count": 195,
     "metadata": {},
     "output_type": "execute_result"
    },
    {
     "data": {
      "image/png": "[encoded data removed]",
      "text/plain": [
       "<matplotlib.figure.Figure at 0x2adb3ce10>"
      ]
     },
     "metadata": {},
     "output_type": "display_data"
    }
   ],
   "source": [
    "fig, ax = plt.subplots(figsize=(15,6))\n",
    "\n",
    "plt.plot(history.history['loss'], color='blue')\n",
    "plt.plot(history.history['val_loss'], color='orange')"
   ]
  },
  {
   "cell_type": "code",
   "execution_count": 198,
   "metadata": {},
   "outputs": [],
   "source": [
    "model = load_model('checkpoint_025_0.22.hdf5')\n",
    "#model.save('model_02925.h5')"
   ]
  },
  {
   "cell_type": "code",
   "execution_count": 82,
   "metadata": {
    "collapsed": true
   },
   "outputs": [
    {
     "ename": "ValueError",
     "evalue": "Expected input to be images (as Numpy array) following the data format convention \"channels_last\" (channels on axis 3), i.e. expected either 1, 3 or 4 channels on axis 3. However, it was passed an array with shape (902, 75, 75, 2) (2 channels).",
     "output_type": "error",
     "traceback": [
      "\u001b[0;31m---------------------------------------------------------------------------\u001b[0m",
      "\u001b[0;31mValueError\u001b[0m                                Traceback (most recent call last)",
      "\u001b[0;32m<ipython-input-82-d5f99a77ff20>\u001b[0m in \u001b[0;36m<module>\u001b[0;34m()\u001b[0m\n\u001b[1;32m     11\u001b[0m \u001b[0mimgen_valid\u001b[0m \u001b[0;34m=\u001b[0m \u001b[0mImageDataGenerator\u001b[0m\u001b[0;34m(\u001b[0m\u001b[0;34m)\u001b[0m\u001b[0;34m\u001b[0m\u001b[0m\n\u001b[1;32m     12\u001b[0m \u001b[0;34m\u001b[0m\u001b[0m\n\u001b[0;32m---> 13\u001b[0;31m \u001b[0mimgen_train\u001b[0m\u001b[0;34m.\u001b[0m\u001b[0mfit\u001b[0m\u001b[0;34m(\u001b[0m\u001b[0mX_train_scaled\u001b[0m\u001b[0;34m)\u001b[0m\u001b[0;34m\u001b[0m\u001b[0m\n\u001b[0m\u001b[1;32m     14\u001b[0m \u001b[0mimgen_valid\u001b[0m\u001b[0;34m.\u001b[0m\u001b[0mfit\u001b[0m\u001b[0;34m(\u001b[0m\u001b[0mX_valid_scaled\u001b[0m\u001b[0;34m)\u001b[0m\u001b[0;34m\u001b[0m\u001b[0m\n",
      "\u001b[0;32m~/anaconda3/lib/python3.5/site-packages/keras/preprocessing/image.py\u001b[0m in \u001b[0;36mfit\u001b[0;34m(self, x, augment, rounds, seed)\u001b[0m\n\u001b[1;32m    641\u001b[0m                 \u001b[0;34m'either 1, 3 or 4 channels on axis '\u001b[0m \u001b[0;34m+\u001b[0m \u001b[0mstr\u001b[0m\u001b[0;34m(\u001b[0m\u001b[0mself\u001b[0m\u001b[0;34m.\u001b[0m\u001b[0mchannel_axis\u001b[0m\u001b[0;34m)\u001b[0m \u001b[0;34m+\u001b[0m \u001b[0;34m'. '\u001b[0m\u001b[0;34m\u001b[0m\u001b[0m\n\u001b[1;32m    642\u001b[0m                 \u001b[0;34m'However, it was passed an array with shape '\u001b[0m \u001b[0;34m+\u001b[0m \u001b[0mstr\u001b[0m\u001b[0;34m(\u001b[0m\u001b[0mx\u001b[0m\u001b[0;34m.\u001b[0m\u001b[0mshape\u001b[0m\u001b[0;34m)\u001b[0m \u001b[0;34m+\u001b[0m\u001b[0;34m\u001b[0m\u001b[0m\n\u001b[0;32m--> 643\u001b[0;31m                 ' (' + str(x.shape[self.channel_axis]) + ' channels).')\n\u001b[0m\u001b[1;32m    644\u001b[0m \u001b[0;34m\u001b[0m\u001b[0m\n\u001b[1;32m    645\u001b[0m         \u001b[0;32mif\u001b[0m \u001b[0mseed\u001b[0m \u001b[0;32mis\u001b[0m \u001b[0;32mnot\u001b[0m \u001b[0;32mNone\u001b[0m\u001b[0;34m:\u001b[0m\u001b[0;34m\u001b[0m\u001b[0m\n",
      "\u001b[0;31mValueError\u001b[0m: Expected input to be images (as Numpy array) following the data format convention \"channels_last\" (channels on axis 3), i.e. expected either 1, 3 or 4 channels on axis 3. However, it was passed an array with shape (902, 75, 75, 2) (2 channels)."
     ]
    }
   ],
   "source": [
    "imgen_train = ImageDataGenerator(\n",
    "    rotation_range=90,\n",
    "    width_shift_range=0.2,\n",
    "    height_shift_range=0.2,\n",
    "    shear_range=0.1,\n",
    "    zoom_range=0.15,\n",
    "    horizontal_flip=True,\n",
    "    vertical_flip=True\n",
    ")\n",
    "\n",
    "imgen_valid = ImageDataGenerator()\n",
    "\n",
    "imgen_train.fit(X_train_scaled)\n",
    "imgen_valid.fit(X_valid_scaled)"
   ]
  },
  {
   "cell_type": "code",
   "execution_count": null,
   "metadata": {},
   "outputs": [],
   "source": [
    "%%time\n",
    "history = model.fit(\n",
    "    *shuffle(X_train, y_train),\n",
    "    validation_data=shuffle(X_valid, y_valid),\n",
    "    batch_size=64,\n",
    "    epochs=50\n",
    ")"
   ]
  },
  {
   "cell_type": "code",
   "execution_count": 199,
   "metadata": {},
   "outputs": [
    {
     "name": "stdout",
     "output_type": "stream",
     "text": [
      "> Predicting test data\n",
      "> Writing submission file\n"
     ]
    }
   ],
   "source": [
    "def predict():\n",
    "    print('> Predicting test data')\n",
    "    y_pred = model.predict(X_test_scaled)\n",
    "    print('> Writing submission file')\n",
    "    with open('submission.csv', 'w') as f:\n",
    "        f.write('id,is_iceberg\\n')\n",
    "        for id_, pred in zip(ids_test, y_pred):\n",
    "            f.write('{},{}\\n'.format(id_, pred[0]))\n",
    "\n",
    "predict()"
   ]
  },
  {
   "cell_type": "code",
   "execution_count": null,
   "metadata": {},
   "outputs": [],
   "source": []
  }
 ],
 "metadata": {
  "kernelspec": {
   "display_name": "Python [conda root]",
   "language": "python",
   "name": "conda-root-py"
  },
  "language_info": {
   "codemirror_mode": {
    "name": "ipython",
    "version": 3
   },
   "file_extension": ".py",
   "mimetype": "text/x-python",
   "name": "python",
   "nbconvert_exporter": "python",
   "pygments_lexer": "ipython3",
   "version": "3.5.4"
  }
 },
 "nbformat": 4,
 "nbformat_minor": 2
}
