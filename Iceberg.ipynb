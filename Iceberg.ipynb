{
 "cells": [
  {
   "cell_type": "code",
   "execution_count": 197,
   "metadata": {},
   "outputs": [],
   "source": [
    "import json\n",
    "import pandas as pd\n",
    "import numpy as np\n",
    "\n",
    "from sklearn.model_selection import train_test_split\n",
    "from sklearn.utils import shuffle\n",
    "\n",
    "import tensorflow as tf\n",
    "\n",
    "from tensorflow.contrib.keras.python.keras.models import Sequential, load_model\n",
    "from tensorflow.contrib.keras.python.keras.layers import Input, InputLayer, Dense, Conv2D, Dropout, BatchNormalization, GaussianNoise, Flatten, MaxPooling2D, GlobalMaxPooling2D\n",
    "from tensorflow.contrib.keras.python.keras.optimizers import Adam\n",
    "from tensorflow.contrib.keras.python.keras.regularizers import l1, l2\n",
    "from tensorflow.contrib.keras.python.keras.initializers import glorot_normal\n",
    "from tensorflow.contrib.keras.python.keras.callbacks import TensorBoard, ModelCheckpoint, EarlyStopping, ReduceLROnPlateau\n",
    "from tensorflow.contrib.keras.python.keras.preprocessing.image import ImageDataGenerator\n",
    "\n",
    "import matplotlib.pyplot as plt\n",
    "%matplotlib inline"
   ]
  },
  {
   "cell_type": "code",
   "execution_count": 122,
   "metadata": {},
   "outputs": [
    {
     "data": {
      "text/plain": [
       "'1.3.1'"
      ]
     },
     "execution_count": 122,
     "metadata": {},
     "output_type": "execute_result"
    }
   ],
   "source": [
    "tf.__version__"
   ]
  },
  {
   "cell_type": "code",
   "execution_count": 2,
   "metadata": {},
   "outputs": [],
   "source": [
    "TRAIN_FILE = 'data/train.json'\n",
    "TEST_FILE = 'data/test.json'"
   ]
  },
  {
   "cell_type": "code",
   "execution_count": 3,
   "metadata": {},
   "outputs": [],
   "source": [
    "def load_data(filename):\n",
    "    df = pd.read_json(filename)\n",
    "    images = df.apply(lambda c_row: [np.stack([c_row['band_1'], c_row['band_2']], -1).reshape((75,75,2))], 1)\n",
    "    images = np.stack(images).squeeze()\n",
    "    ids = df.id.tolist()\n",
    "    return ids, images, df.is_iceberg.as_matrix() if 'is_iceberg' in df else None"
   ]
  },
  {
   "cell_type": "code",
   "execution_count": 176,
   "metadata": {},
   "outputs": [
    {
     "name": "stdout",
     "output_type": "stream",
     "text": [
      "CPU times: user 16 s, sys: 9.99 s, total: 25.9 s\n",
      "Wall time: 29.2 s\n"
     ]
    }
   ],
   "source": [
    "%%time\n",
    "_, X_train_all, y_train_all = load_data(TRAIN_FILE)\n",
    "ids_test, X_test, y_test = load_data(TEST_FILE)"
   ]
  },
  {
   "cell_type": "code",
   "execution_count": 177,
   "metadata": {},
   "outputs": [
    {
     "data": {
      "text/plain": [
       "((1604, 75, 75, 2), (1604,), (8424, 75, 75, 2))"
      ]
     },
     "execution_count": 177,
     "metadata": {},
     "output_type": "execute_result"
    }
   ],
   "source": [
    "X_train_all.shape, y_train_all.shape, X_test.shape"
   ]
  },
  {
   "cell_type": "code",
   "execution_count": 180,
   "metadata": {},
   "outputs": [],
   "source": [
    "X_train, X_valid, y_train, y_valid = train_test_split(X_train_all, y_train_all, random_state=2**8, test_size=0.1)"
   ]
  },
  {
   "cell_type": "code",
   "execution_count": 181,
   "metadata": {},
   "outputs": [],
   "source": [
    "mean = X_train.mean()\n",
    "devi = X_train.std()\n",
    "\n",
    "def normalize(X):\n",
    "    return (X - mean) / devi\n",
    "\n",
    "X_train_scaled = normalize(X_train)\n",
    "X_valid_scaled = normalize(X_valid)\n",
    "X_test_scaled = normalize(X_test)"
   ]
  },
  {
   "cell_type": "code",
   "execution_count": 200,
   "metadata": {},
   "outputs": [
    {
     "name": "stdout",
     "output_type": "stream",
     "text": [
      "_________________________________________________________________\n",
      "Layer (type)                 Output Shape              Param #   \n",
      "=================================================================\n",
      "input_3 (InputLayer)         (None, 75, 75, 2)         0         \n",
      "_________________________________________________________________\n",
      "gaussian_noise_1 (GaussianNo (None, 75, 75, 2)         0         \n",
      "_________________________________________________________________\n",
      "conv2d_122 (Conv2D)          (None, 33, 33, 32)        7776      \n",
      "_________________________________________________________________\n",
      "dropout_137 (Dropout)        (None, 33, 33, 32)        0         \n",
      "_________________________________________________________________\n",
      "conv2d_123 (Conv2D)          (None, 12, 12, 32)        123936    \n",
      "_________________________________________________________________\n",
      "dropout_138 (Dropout)        (None, 12, 12, 32)        0         \n",
      "_________________________________________________________________\n",
      "conv2d_124 (Conv2D)          (None, 6, 6, 64)          100416    \n",
      "_________________________________________________________________\n",
      "dropout_139 (Dropout)        (None, 6, 6, 64)          0         \n",
      "_________________________________________________________________\n",
      "conv2d_125 (Conv2D)          (None, 2, 2, 64)          102464    \n",
      "_________________________________________________________________\n",
      "flatten_25 (Flatten)         (None, 256)               0         \n",
      "_________________________________________________________________\n",
      "dropout_140 (Dropout)        (None, 256)               0         \n",
      "_________________________________________________________________\n",
      "dense_49 (Dense)             (None, 16)                4112      \n",
      "_________________________________________________________________\n",
      "dropout_141 (Dropout)        (None, 16)                0         \n",
      "_________________________________________________________________\n",
      "dense_50 (Dense)             (None, 1)                 17        \n",
      "=================================================================\n",
      "Total params: 338,721\n",
      "Trainable params: 338,721\n",
      "Non-trainable params: 0\n",
      "_________________________________________________________________\n",
      "None\n"
     ]
    }
   ],
   "source": [
    "INPUT_SHAPE = X_train.shape[1:]\n",
    "\n",
    "def other_model():\n",
    "    model = Sequential()\n",
    "\n",
    "    model.add(BatchNormalization(input_shape=INPUT_SHAPE))\n",
    "    for i in range(4):\n",
    "        model.add(Conv2D(8*2**i, kernel_size=(3,3), activation='elu'))\n",
    "        model.add(MaxPooling2D((2,2)))\n",
    "    model.add(GlobalMaxPooling2D())\n",
    "    model.add(Dropout(0.2))\n",
    "    model.add(Dense(64, activation='elu'))\n",
    "    model.add(Dropout(0.2))\n",
    "    model.add(Dense(32, activation='elu'))\n",
    "    model.add(Dense(1, kernel_initializer=glorot_normal(), activation='sigmoid'))\n",
    "    return model\n",
    "\n",
    "def my_model():\n",
    "    model = Sequential()\n",
    "\n",
    "    model.add(InputLayer(input_shape=INPUT_SHAPE))\n",
    "    model.add(GaussianNoise(0.1))\n",
    "\n",
    "    model.add(Conv2D(32, kernel_size=(11, 11), strides=(2, 2), kernel_initializer=glorot_normal(), activation='elu'))\n",
    "    model.add(Dropout(0.2))\n",
    "\n",
    "    model.add(Conv2D(32, kernel_size=(11, 11), strides=(2, 2), kernel_initializer=glorot_normal(), activation='elu'))\n",
    "    model.add(Dropout(0.3))\n",
    "\n",
    "    model.add(Conv2D(64, kernel_size=(7, 7), kernel_initializer=glorot_normal(), activation='elu'))\n",
    "    model.add(Dropout(0.3))\n",
    "\n",
    "    model.add(Conv2D(64, kernel_size=(5, 5), kernel_initializer=glorot_normal(), activation='elu'))\n",
    "\n",
    "    model.add(Flatten())\n",
    "    model.add(Dropout(0.6))\n",
    "\n",
    "    model.add(Dense(16, kernel_initializer=glorot_normal(), activation='elu'))\n",
    "    model.add(Dropout(0.2))\n",
    "\n",
    "    model.add(Dense(1, kernel_initializer=glorot_normal(), activation='sigmoid'))\n",
    "    return model\n",
    "    \n",
    "\n",
    "model = my_model()\n",
    "\n",
    "model.compile(optimizer=Adam(lr=0.001), loss='binary_crossentropy')\n",
    "print(model.summary())"
   ]
  },
  {
   "cell_type": "code",
   "execution_count": 191,
   "metadata": {},
   "outputs": [],
   "source": [
    "#tensorboard = TensorBoard(log_dir='./logs', histogram_freq=1, batch_size=32, write_graph=True, write_grads=True)\n",
    "checkpoint = ModelCheckpoint('checkpoint_{epoch:03d}_{val_loss:.2f}.hdf5', monitor='val_loss', save_best_only=True)\n",
    "#earlystopping = EarlyStopping(patience=10, monitor='loss')\n",
    "plateau = ReduceLROnPlateau(monitor='val_loss', factor=0.2, patience=15)"
   ]
  },
  {
   "cell_type": "code",
   "execution_count": 201,
   "metadata": {
    "scrolled": false
   },
   "outputs": [
    {
     "name": "stdout",
     "output_type": "stream",
     "text": [
      "Train on 1443 samples, validate on 161 samples\n",
      "Epoch 1/64\n",
      "1443/1443 [==============================] - 5s - loss: 0.7875 - val_loss: 0.6699\n",
      "Epoch 2/64\n",
      "1443/1443 [==============================] - 0s - loss: 0.7923 - val_loss: 0.6878\n",
      "Epoch 3/64\n",
      "1443/1443 [==============================] - 0s - loss: 0.7020 - val_loss: 0.6349\n",
      "Epoch 4/64\n",
      "1443/1443 [==============================] - 0s - loss: 0.6538 - val_loss: 0.5756\n",
      "Epoch 5/64\n",
      "1443/1443 [==============================] - 0s - loss: 0.6578 - val_loss: 0.7795\n",
      "Epoch 6/64\n",
      "1443/1443 [==============================] - 0s - loss: 0.7121 - val_loss: 0.5716\n",
      "Epoch 7/64\n",
      "1443/1443 [==============================] - 0s - loss: 0.6664 - val_loss: 0.5725\n",
      "Epoch 8/64\n",
      "1443/1443 [==============================] - 0s - loss: 0.5985 - val_loss: 0.5573\n",
      "Epoch 9/64\n",
      "1443/1443 [==============================] - 0s - loss: 0.6040 - val_loss: 0.5560\n",
      "Epoch 10/64\n",
      "1443/1443 [==============================] - 0s - loss: 0.5687 - val_loss: 0.5211\n",
      "Epoch 11/64\n",
      "1443/1443 [==============================] - 0s - loss: 0.5792 - val_loss: 0.5220\n",
      "Epoch 12/64\n",
      "1443/1443 [==============================] - 0s - loss: 0.5566 - val_loss: 0.5351\n",
      "Epoch 13/64\n",
      "1443/1443 [==============================] - 0s - loss: 0.5462 - val_loss: 0.4945\n",
      "Epoch 14/64\n",
      "1443/1443 [==============================] - 0s - loss: 0.4848 - val_loss: 0.6354\n",
      "Epoch 15/64\n",
      "1443/1443 [==============================] - 0s - loss: 0.5052 - val_loss: 0.4033\n",
      "Epoch 16/64\n",
      "1443/1443 [==============================] - 0s - loss: 0.4418 - val_loss: 0.3770\n",
      "Epoch 17/64\n",
      "1443/1443 [==============================] - 0s - loss: 0.4108 - val_loss: 0.3683\n",
      "Epoch 18/64\n",
      "1443/1443 [==============================] - 0s - loss: 0.4677 - val_loss: 0.3695\n",
      "Epoch 19/64\n",
      "1443/1443 [==============================] - 0s - loss: 0.4032 - val_loss: 0.3197\n",
      "Epoch 20/64\n",
      "1443/1443 [==============================] - 0s - loss: 0.3681 - val_loss: 0.3166\n",
      "Epoch 21/64\n",
      "1443/1443 [==============================] - 0s - loss: 0.3288 - val_loss: 0.2918\n",
      "Epoch 22/64\n",
      "1443/1443 [==============================] - 0s - loss: 0.3518 - val_loss: 0.3008\n",
      "Epoch 23/64\n",
      "1443/1443 [==============================] - 0s - loss: 0.4000 - val_loss: 0.3384\n",
      "Epoch 24/64\n",
      "1443/1443 [==============================] - 0s - loss: 0.3292 - val_loss: 0.2854\n",
      "Epoch 25/64\n",
      "1443/1443 [==============================] - 0s - loss: 0.3193 - val_loss: 0.2881\n",
      "Epoch 26/64\n",
      "1443/1443 [==============================] - 0s - loss: 0.3038 - val_loss: 0.2732\n",
      "Epoch 27/64\n",
      "1443/1443 [==============================] - 0s - loss: 0.2891 - val_loss: 0.2664\n",
      "Epoch 28/64\n",
      "1443/1443 [==============================] - 0s - loss: 0.3163 - val_loss: 0.2653\n",
      "Epoch 29/64\n",
      "1443/1443 [==============================] - 0s - loss: 0.2682 - val_loss: 0.2518\n",
      "Epoch 30/64\n",
      "1443/1443 [==============================] - 0s - loss: 0.2808 - val_loss: 0.2679\n",
      "Epoch 31/64\n",
      "1443/1443 [==============================] - 0s - loss: 0.2850 - val_loss: 0.2821\n",
      "Epoch 32/64\n",
      "1443/1443 [==============================] - 0s - loss: 0.2632 - val_loss: 0.2889\n",
      "Epoch 33/64\n",
      "1443/1443 [==============================] - 0s - loss: 0.3522 - val_loss: 0.2561\n",
      "Epoch 34/64\n",
      "1443/1443 [==============================] - 0s - loss: 0.2676 - val_loss: 0.2481\n",
      "Epoch 35/64\n",
      "1443/1443 [==============================] - 0s - loss: 0.2547 - val_loss: 0.2599\n",
      "Epoch 36/64\n",
      "1443/1443 [==============================] - 0s - loss: 0.2279 - val_loss: 0.2591\n",
      "Epoch 37/64\n",
      "1443/1443 [==============================] - 0s - loss: 0.2437 - val_loss: 0.2300\n",
      "Epoch 38/64\n",
      "1443/1443 [==============================] - 5s - loss: 0.2323 - val_loss: 0.2099\n",
      "Epoch 39/64\n",
      "1443/1443 [==============================] - 0s - loss: 0.2672 - val_loss: 0.3024\n",
      "Epoch 40/64\n",
      "1443/1443 [==============================] - 0s - loss: 0.2501 - val_loss: 0.2542\n",
      "Epoch 41/64\n",
      "1443/1443 [==============================] - 0s - loss: 0.2027 - val_loss: 0.2224\n",
      "Epoch 42/64\n",
      "1443/1443 [==============================] - 0s - loss: 0.2159 - val_loss: 0.2426\n",
      "Epoch 43/64\n",
      "1443/1443 [==============================] - 0s - loss: 0.1971 - val_loss: 0.2168\n",
      "Epoch 44/64\n",
      "1443/1443 [==============================] - 0s - loss: 0.2816 - val_loss: 0.2669\n",
      "Epoch 45/64\n",
      "1443/1443 [==============================] - 0s - loss: 0.2203 - val_loss: 0.2288\n",
      "Epoch 46/64\n",
      "1443/1443 [==============================] - 0s - loss: 0.2231 - val_loss: 0.2823\n",
      "Epoch 47/64\n",
      "1443/1443 [==============================] - 0s - loss: 0.2271 - val_loss: 0.2319\n",
      "Epoch 48/64\n",
      "1443/1443 [==============================] - 0s - loss: 0.1833 - val_loss: 0.2624\n",
      "Epoch 49/64\n",
      "1443/1443 [==============================] - 0s - loss: 0.1830 - val_loss: 0.2410\n",
      "Epoch 50/64\n",
      "1443/1443 [==============================] - 0s - loss: 0.1534 - val_loss: 0.2851\n",
      "Epoch 51/64\n",
      "1443/1443 [==============================] - 0s - loss: 0.2156 - val_loss: 0.2383\n",
      "Epoch 52/64\n",
      "1443/1443 [==============================] - 0s - loss: 0.1881 - val_loss: 0.2775\n",
      "Epoch 53/64\n",
      "1443/1443 [==============================] - 0s - loss: 0.4904 - val_loss: 0.3214\n",
      "Epoch 54/64\n",
      "1443/1443 [==============================] - 4s - loss: 0.2980 - val_loss: 0.2309\n",
      "Epoch 55/64\n",
      "1443/1443 [==============================] - 0s - loss: 0.2092 - val_loss: 0.2083\n",
      "Epoch 56/64\n",
      "1443/1443 [==============================] - 0s - loss: 0.2048 - val_loss: 0.2234\n",
      "Epoch 57/64\n",
      "1443/1443 [==============================] - 0s - loss: 0.1945 - val_loss: 0.2333\n",
      "Epoch 58/64\n",
      "1443/1443 [==============================] - 0s - loss: 0.1718 - val_loss: 0.2258\n",
      "Epoch 59/64\n",
      "1443/1443 [==============================] - 0s - loss: 0.1647 - val_loss: 0.2271\n",
      "Epoch 60/64\n",
      "1443/1443 [==============================] - 0s - loss: 0.1793 - val_loss: 0.2259\n",
      "Epoch 61/64\n",
      "1443/1443 [==============================] - 0s - loss: 0.1649 - val_loss: 0.2327\n",
      "Epoch 62/64\n",
      "1443/1443 [==============================] - 0s - loss: 0.1643 - val_loss: 0.2197\n",
      "Epoch 63/64\n",
      "1443/1443 [==============================] - 0s - loss: 0.1426 - val_loss: 0.2222\n",
      "Epoch 64/64\n",
      "1443/1443 [==============================] - 0s - loss: 0.1269 - val_loss: 0.2292\n",
      "CPU times: user 53.6 s, sys: 10.6 s, total: 1min 4s\n",
      "Wall time: 55.7 s\n"
     ]
    }
   ],
   "source": [
    "%%time\n",
    "history = model.fit(\n",
    "    *shuffle(X_train_scaled, y_train),\n",
    "    validation_data=shuffle(X_valid_scaled, y_valid),\n",
    "    #batch_size=64,\n",
    "    epochs=64,\n",
    "    callbacks=[\n",
    "        #tensorboard,\n",
    "        checkpoint,\n",
    "        plateau\n",
    "    ]\n",
    ")"
   ]
  },
  {
   "cell_type": "code",
   "execution_count": 202,
   "metadata": {},
   "outputs": [
    {
     "data": {
      "text/plain": [
       "[<matplotlib.lines.Line2D at 0x2a045a668>]"
      ]
     },
     "execution_count": 202,
     "metadata": {},
     "output_type": "execute_result"
    },
    {
     "data": {
      "image/png": "[encoded data removed]",
      "text/plain": [
       "<matplotlib.figure.Figure at 0x2a0add710>"
      ]
     },
     "metadata": {},
     "output_type": "display_data"
    }
   ],
   "source": [
    "fig, ax = plt.subplots(figsize=(15,6))\n",
    "\n",
    "plt.plot(history.history['loss'], color='blue')\n",
    "plt.plot(history.history['val_loss'], color='orange')"
   ]
  },
  {
   "cell_type": "code",
   "execution_count": 203,
   "metadata": {},
   "outputs": [],
   "source": [
    "model = load_model('checkpoint_025_0.22.hdf5')\n",
    "#model.save('model_02292.h5')"
   ]
  },
  {
   "cell_type": "code",
   "execution_count": 82,
   "metadata": {
    "collapsed": true
   },
   "outputs": [
    {
     "ename": "ValueError",
     "evalue": "Expected input to be images (as Numpy array) following the data format convention \"channels_last\" (channels on axis 3), i.e. expected either 1, 3 or 4 channels on axis 3. However, it was passed an array with shape (902, 75, 75, 2) (2 channels).",
     "output_type": "error",
     "traceback": [
      "\u001b[0;31m---------------------------------------------------------------------------\u001b[0m",
      "\u001b[0;31mValueError\u001b[0m                                Traceback (most recent call last)",
      "\u001b[0;32m<ipython-input-82-d5f99a77ff20>\u001b[0m in \u001b[0;36m<module>\u001b[0;34m()\u001b[0m\n\u001b[1;32m     11\u001b[0m \u001b[0mimgen_valid\u001b[0m \u001b[0;34m=\u001b[0m \u001b[0mImageDataGenerator\u001b[0m\u001b[0;34m(\u001b[0m\u001b[0;34m)\u001b[0m\u001b[0;34m\u001b[0m\u001b[0m\n\u001b[1;32m     12\u001b[0m \u001b[0;34m\u001b[0m\u001b[0m\n\u001b[0;32m---> 13\u001b[0;31m \u001b[0mimgen_train\u001b[0m\u001b[0;34m.\u001b[0m\u001b[0mfit\u001b[0m\u001b[0;34m(\u001b[0m\u001b[0mX_train_scaled\u001b[0m\u001b[0;34m)\u001b[0m\u001b[0;34m\u001b[0m\u001b[0m\n\u001b[0m\u001b[1;32m     14\u001b[0m \u001b[0mimgen_valid\u001b[0m\u001b[0;34m.\u001b[0m\u001b[0mfit\u001b[0m\u001b[0;34m(\u001b[0m\u001b[0mX_valid_scaled\u001b[0m\u001b[0;34m)\u001b[0m\u001b[0;34m\u001b[0m\u001b[0m\n",
      "\u001b[0;32m~/anaconda3/lib/python3.5/site-packages/keras/preprocessing/image.py\u001b[0m in \u001b[0;36mfit\u001b[0;34m(self, x, augment, rounds, seed)\u001b[0m\n\u001b[1;32m    641\u001b[0m                 \u001b[0;34m'either 1, 3 or 4 channels on axis '\u001b[0m \u001b[0;34m+\u001b[0m \u001b[0mstr\u001b[0m\u001b[0;34m(\u001b[0m\u001b[0mself\u001b[0m\u001b[0;34m.\u001b[0m\u001b[0mchannel_axis\u001b[0m\u001b[0;34m)\u001b[0m \u001b[0;34m+\u001b[0m \u001b[0;34m'. '\u001b[0m\u001b[0;34m\u001b[0m\u001b[0m\n\u001b[1;32m    642\u001b[0m                 \u001b[0;34m'However, it was passed an array with shape '\u001b[0m \u001b[0;34m+\u001b[0m \u001b[0mstr\u001b[0m\u001b[0;34m(\u001b[0m\u001b[0mx\u001b[0m\u001b[0;34m.\u001b[0m\u001b[0mshape\u001b[0m\u001b[0;34m)\u001b[0m \u001b[0;34m+\u001b[0m\u001b[0;34m\u001b[0m\u001b[0m\n\u001b[0;32m--> 643\u001b[0;31m                 ' (' + str(x.shape[self.channel_axis]) + ' channels).')\n\u001b[0m\u001b[1;32m    644\u001b[0m \u001b[0;34m\u001b[0m\u001b[0m\n\u001b[1;32m    645\u001b[0m         \u001b[0;32mif\u001b[0m \u001b[0mseed\u001b[0m \u001b[0;32mis\u001b[0m \u001b[0;32mnot\u001b[0m \u001b[0;32mNone\u001b[0m\u001b[0;34m:\u001b[0m\u001b[0;34m\u001b[0m\u001b[0m\n",
      "\u001b[0;31mValueError\u001b[0m: Expected input to be images (as Numpy array) following the data format convention \"channels_last\" (channels on axis 3), i.e. expected either 1, 3 or 4 channels on axis 3. However, it was passed an array with shape (902, 75, 75, 2) (2 channels)."
     ]
    }
   ],
   "source": [
    "imgen_train = ImageDataGenerator(\n",
    "    rotation_range=90,\n",
    "    width_shift_range=0.2,\n",
    "    height_shift_range=0.2,\n",
    "    shear_range=0.1,\n",
    "    zoom_range=0.15,\n",
    "    horizontal_flip=True,\n",
    "    vertical_flip=True\n",
    ")\n",
    "\n",
    "imgen_valid = ImageDataGenerator()\n",
    "\n",
    "imgen_train.fit(X_train_scaled)\n",
    "imgen_valid.fit(X_valid_scaled)"
   ]
  },
  {
   "cell_type": "code",
   "execution_count": null,
   "metadata": {},
   "outputs": [],
   "source": [
    "%%time\n",
    "history = model.fit(\n",
    "    *shuffle(X_train, y_train),\n",
    "    validation_data=shuffle(X_valid, y_valid),\n",
    "    batch_size=64,\n",
    "    epochs=50\n",
    ")"
   ]
  },
  {
   "cell_type": "code",
   "execution_count": 199,
   "metadata": {},
   "outputs": [
    {
     "name": "stdout",
     "output_type": "stream",
     "text": [
      "> Predicting test data\n",
      "> Writing submission file\n"
     ]
    }
   ],
   "source": [
    "def predict():\n",
    "    print('> Predicting test data')\n",
    "    y_pred = model.predict(X_test_scaled)\n",
    "    print('> Writing submission file')\n",
    "    with open('submission.csv', 'w') as f:\n",
    "        f.write('id,is_iceberg\\n')\n",
    "        for id_, pred in zip(ids_test, y_pred):\n",
    "            f.write('{},{}\\n'.format(id_, pred[0]))\n",
    "\n",
    "predict()"
   ]
  },
  {
   "cell_type": "code",
   "execution_count": null,
   "metadata": {},
   "outputs": [],
   "source": []
  }
 ],
 "metadata": {
  "kernelspec": {
   "display_name": "Python [conda root]",
   "language": "python",
   "name": "conda-root-py"
  },
  "language_info": {
   "codemirror_mode": {
    "name": "ipython",
    "version": 3
   },
   "file_extension": ".py",
   "mimetype": "text/x-python",
   "name": "python",
   "nbconvert_exporter": "python",
   "pygments_lexer": "ipython3",
   "version": "3.5.4"
  }
 },
 "nbformat": 4,
 "nbformat_minor": 2
}
